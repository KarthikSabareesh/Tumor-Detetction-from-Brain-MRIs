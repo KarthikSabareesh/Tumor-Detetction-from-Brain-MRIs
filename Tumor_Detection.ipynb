{
  "nbformat": 4,
  "nbformat_minor": 0,
  "metadata": {
    "colab": {
      "provenance": []
    },
    "kernelspec": {
      "name": "python3",
      "display_name": "Python 3"
    },
    "language_info": {
      "name": "python"
    }
  },
  "cells": [
    {
      "cell_type": "markdown",
      "source": [
        "#Brain MRI Image classification for Brain Tumor Detection"
      ],
      "metadata": {
        "id": "9rgSqyHNCKmH"
      }
    },
    {
      "cell_type": "markdown",
      "source": [
        "##In this exercise, we'll be performing a binary classification of multiple MRI brain scans using a Convolutional Neural Network (CNN) trained to idenfity possible brain tumor abnormalities in brain scans and identify the existence of tumors by a binary classification of scan having a tumor('yes') or not having a tumor('no')"
      ],
      "metadata": {
        "id": "lEniiI4cGQTi"
      }
    },
    {
      "cell_type": "markdown",
      "source": [
        "#By : Karthik Sabareesh\n",
        "\n",
        "\n",
        "Github: https://github.com/KarthikSabareesh"
      ],
      "metadata": {
        "id": "hwlJYoLIGnrj"
      }
    },
    {
      "cell_type": "code",
      "source": [
        "import pandas as pd\n",
        "import numpy as np\n",
        "import tensorflow as tf\n",
        "from tensorflow.keras.preprocessing import image_dataset_from_directory\n",
        "from tensorflow import keras\n",
        "from tensorflow.keras import layers\n",
        "from tensorflow.keras.callbacks import EarlyStopping\n",
        "import os"
      ],
      "metadata": {
        "id": "OQP-J1nrGrt4"
      },
      "execution_count": null,
      "outputs": []
    },
    {
      "cell_type": "code",
      "source": [
        "from google.colab import drive\n",
        "drive.mount('/content/drive')"
      ],
      "metadata": {
        "id": "wZfR_i8Xcee1",
        "outputId": "8172417c-760e-4d8d-f1e3-fea681495c6a",
        "colab": {
          "base_uri": "https://localhost:8080/"
        }
      },
      "execution_count": null,
      "outputs": [
        {
          "output_type": "stream",
          "name": "stdout",
          "text": [
            "Mounted at /content/drive\n"
          ]
        }
      ]
    },
    {
      "cell_type": "code",
      "source": [
        "data_dir =  '/content/drive/MyDrive/brain_tumor_dataset'\n",
        "img_height, img_width = 224,224\n",
        "batch_size = 32"
      ],
      "metadata": {
        "id": "C-zkTxlnM54T"
      },
      "execution_count": null,
      "outputs": []
    },
    {
      "cell_type": "code",
      "source": [
        "train_data = tf.keras.utils.image_dataset_from_directory(\n",
        "  data_dir,\n",
        "  labels='inferred',\n",
        "  label_mode='binary',\n",
        "  validation_split=0.2,\n",
        "  subset=\"training\",\n",
        "  seed=123,\n",
        "  image_size=(img_height, img_width),\n",
        "  interpolation='nearest',\n",
        "  batch_size=batch_size)\n",
        "\n",
        "valid_data = tf.keras.utils.image_dataset_from_directory(\n",
        "  data_dir,\n",
        "  labels='inferred',\n",
        "  label_mode='binary',\n",
        "  validation_split=0.2,\n",
        "  subset=\"validation\",\n",
        "  seed=123,\n",
        "  image_size=(img_height, img_width),\n",
        "  interpolation='nearest',\n",
        "  batch_size=batch_size)\n",
        "\n",
        "print(train_data)"
      ],
      "metadata": {
        "colab": {
          "base_uri": "https://localhost:8080/"
        },
        "id": "915wnOT-lpG3",
        "outputId": "237f9d4b-a69b-4cef-bdbe-9efa83ba0352"
      },
      "execution_count": null,
      "outputs": [
        {
          "output_type": "stream",
          "name": "stdout",
          "text": [
            "Found 253 files belonging to 2 classes.\n",
            "Using 203 files for training.\n",
            "Found 253 files belonging to 2 classes.\n",
            "Using 50 files for validation.\n",
            "<_BatchDataset element_spec=(TensorSpec(shape=(None, 224, 224, 3), dtype=tf.uint8, name=None), TensorSpec(shape=(None, 1), dtype=tf.float32, name=None))>\n"
          ]
        }
      ]
    },
    {
      "cell_type": "code",
      "source": [
        "rescale = tf.keras.Sequential([\n",
        "  layers.Rescaling(1./255, input_shape=[img_height, img_width, 3])\n",
        "])"
      ],
      "metadata": {
        "id": "J_eXWWgEl_IY"
      },
      "execution_count": null,
      "outputs": []
    },
    {
      "cell_type": "code",
      "source": [
        "tf.random.set_seed(42)\n",
        "\n",
        "model = keras.Sequential([\n",
        "\n",
        "    rescale,\n",
        "\n",
        "    # First Convolutional Block\n",
        "    layers.Conv2D(filters=32, kernel_size=(4,4), activation=\"relu\", padding='valid'),\n",
        "    layers.MaxPool2D(),\n",
        "\n",
        "    # Second Convolutional Block\n",
        "    layers.Conv2D(filters=64, kernel_size=(3,3), activation=\"relu\", padding='valid'),\n",
        "    layers.MaxPool2D(),\n",
        "\n",
        "    # Third Convolutional Block\n",
        "    layers.Conv2D(filters=128, kernel_size=(3,3), activation=\"relu\", padding='valid'),\n",
        "    layers.MaxPool2D(),\n",
        "\n",
        "    # Classifier Head\n",
        "    layers.Flatten(),\n",
        "    layers.Dense(units=128, activation=\"relu\"),\n",
        "    layers.Dropout(0.5),\n",
        "    layers.Dense(units=64, activation=\"relu\"),\n",
        "    layers.Dropout(0.5),\n",
        "    layers.Dense(units=32, activation=\"relu\"),\n",
        "    layers.Dense(units=1, activation=\"sigmoid\"),\n",
        "])\n",
        "model.summary()"
      ],
      "metadata": {
        "colab": {
          "base_uri": "https://localhost:8080/"
        },
        "id": "uYqWZa81mE78",
        "outputId": "9fa1f3fe-0bba-4ed7-d04d-616e2de9ec96"
      },
      "execution_count": null,
      "outputs": [
        {
          "output_type": "stream",
          "name": "stdout",
          "text": [
            "Model: \"sequential_1\"\n",
            "_________________________________________________________________\n",
            " Layer (type)                Output Shape              Param #   \n",
            "=================================================================\n",
            " sequential (Sequential)     (None, 224, 224, 3)       0         \n",
            "                                                                 \n",
            " conv2d (Conv2D)             (None, 221, 221, 32)      1568      \n",
            "                                                                 \n",
            " max_pooling2d (MaxPooling2D  (None, 110, 110, 32)     0         \n",
            " )                                                               \n",
            "                                                                 \n",
            " conv2d_1 (Conv2D)           (None, 108, 108, 64)      18496     \n",
            "                                                                 \n",
            " max_pooling2d_1 (MaxPooling  (None, 54, 54, 64)       0         \n",
            " 2D)                                                             \n",
            "                                                                 \n",
            " conv2d_2 (Conv2D)           (None, 52, 52, 128)       73856     \n",
            "                                                                 \n",
            " max_pooling2d_2 (MaxPooling  (None, 26, 26, 128)      0         \n",
            " 2D)                                                             \n",
            "                                                                 \n",
            " flatten (Flatten)           (None, 86528)             0         \n",
            "                                                                 \n",
            " dense (Dense)               (None, 128)               11075712  \n",
            "                                                                 \n",
            " dropout (Dropout)           (None, 128)               0         \n",
            "                                                                 \n",
            " dense_1 (Dense)             (None, 64)                8256      \n",
            "                                                                 \n",
            " dropout_1 (Dropout)         (None, 64)                0         \n",
            "                                                                 \n",
            " dense_2 (Dense)             (None, 32)                2080      \n",
            "                                                                 \n",
            " dense_3 (Dense)             (None, 1)                 33        \n",
            "                                                                 \n",
            "=================================================================\n",
            "Total params: 11,180,001\n",
            "Trainable params: 11,180,001\n",
            "Non-trainable params: 0\n",
            "_________________________________________________________________\n"
          ]
        }
      ]
    },
    {
      "cell_type": "code",
      "source": [
        "from tensorflow.keras.callbacks import ModelCheckpoint\n",
        "\n",
        "AUTOTUNE = tf.data.AUTOTUNE\n",
        "\n",
        "train_data_preprocess = train_data.cache().shuffle(1000).prefetch(buffer_size=AUTOTUNE)\n",
        "valid_data_preprocess = valid_data.cache().prefetch(buffer_size=AUTOTUNE)\n",
        "\n",
        "callbacks = [tf.keras.callbacks.EarlyStopping(monitor='loss', patience=3),ModelCheckpoint(filepath='mymodel.h6',verbose=2, save_best_only=True)]\n",
        "\n",
        "model.compile(\n",
        "    optimizer='adam',\n",
        "    loss='binary_crossentropy',\n",
        "    metrics=['binary_accuracy'],\n",
        ")\n",
        "\n",
        "history = model.fit(\n",
        "    train_data_preprocess,\n",
        "    validation_data=valid_data_preprocess,\n",
        "    epochs=30,\n",
        "    verbose=1,\n",
        "    callbacks=callbacks,\n",
        ")"
      ],
      "metadata": {
        "colab": {
          "base_uri": "https://localhost:8080/"
        },
        "id": "HUPLAQaXm4QS",
        "outputId": "046b43d9-dcc3-480d-871e-7af7def9b479"
      },
      "execution_count": null,
      "outputs": [
        {
          "output_type": "stream",
          "name": "stdout",
          "text": [
            "Epoch 1/30\n",
            "7/7 [==============================] - ETA: 0s - loss: 0.6811 - binary_accuracy: 0.5665\n",
            "Epoch 1: val_loss improved from inf to 0.64403, saving model to mymodel.h6\n"
          ]
        },
        {
          "output_type": "stream",
          "name": "stderr",
          "text": [
            "WARNING:absl:Found untraced functions such as _jit_compiled_convolution_op, _jit_compiled_convolution_op, _jit_compiled_convolution_op, _update_step_xla while saving (showing 4 of 4). These functions will not be directly callable after loading.\n"
          ]
        },
        {
          "output_type": "stream",
          "name": "stdout",
          "text": [
            "\b\b\b\b\b\b\b\b\b\b\b\b\b\b\b\b\b\b\b\b\b\b\b\b\b\b\b\b\b\b\b\b\b\b\b\b\b\b\b\b\b\b\b\b\b\b\b\b\b\b\b\b\b\b\b\b\b\b\b\b\b\b\b\b\b\b\b\b\b\b\b\b\b\b\b\b\b\b\b\b\b\b\b\b\b\b\b\r7/7 [==============================] - 42s 3s/step - loss: 0.6811 - binary_accuracy: 0.5665 - val_loss: 0.6440 - val_binary_accuracy: 0.7600\n",
            "Epoch 2/30\n",
            "7/7 [==============================] - ETA: 0s - loss: 0.6238 - binary_accuracy: 0.7044\n",
            "Epoch 2: val_loss improved from 0.64403 to 0.57469, saving model to mymodel.h6\n"
          ]
        },
        {
          "output_type": "stream",
          "name": "stderr",
          "text": [
            "WARNING:absl:Found untraced functions such as _jit_compiled_convolution_op, _jit_compiled_convolution_op, _jit_compiled_convolution_op, _update_step_xla while saving (showing 4 of 4). These functions will not be directly callable after loading.\n"
          ]
        },
        {
          "output_type": "stream",
          "name": "stdout",
          "text": [
            "\b\b\b\b\b\b\b\b\b\b\b\b\b\b\b\b\b\b\b\b\b\b\b\b\b\b\b\b\b\b\b\b\b\b\b\b\b\b\b\b\b\b\b\b\b\b\b\b\b\b\b\b\b\b\b\b\b\b\b\b\b\b\b\b\b\b\b\b\b\b\b\b\b\b\b\b\b\b\b\b\b\b\b\b\b\b\b\r7/7 [==============================] - 19s 3s/step - loss: 0.6238 - binary_accuracy: 0.7044 - val_loss: 0.5747 - val_binary_accuracy: 0.7400\n",
            "Epoch 3/30\n",
            "7/7 [==============================] - ETA: 0s - loss: 0.5643 - binary_accuracy: 0.7438\n",
            "Epoch 3: val_loss improved from 0.57469 to 0.53490, saving model to mymodel.h6\n"
          ]
        },
        {
          "output_type": "stream",
          "name": "stderr",
          "text": [
            "WARNING:absl:Found untraced functions such as _jit_compiled_convolution_op, _jit_compiled_convolution_op, _jit_compiled_convolution_op, _update_step_xla while saving (showing 4 of 4). These functions will not be directly callable after loading.\n"
          ]
        },
        {
          "output_type": "stream",
          "name": "stdout",
          "text": [
            "\b\b\b\b\b\b\b\b\b\b\b\b\b\b\b\b\b\b\b\b\b\b\b\b\b\b\b\b\b\b\b\b\b\b\b\b\b\b\b\b\b\b\b\b\b\b\b\b\b\b\b\b\b\b\b\b\b\b\b\b\b\b\b\b\b\b\b\b\b\b\b\b\b\b\b\b\b\b\b\b\b\b\b\b\b\b\b\r7/7 [==============================] - 20s 3s/step - loss: 0.5643 - binary_accuracy: 0.7438 - val_loss: 0.5349 - val_binary_accuracy: 0.8000\n",
            "Epoch 4/30\n",
            "7/7 [==============================] - ETA: 0s - loss: 0.4956 - binary_accuracy: 0.7635\n",
            "Epoch 4: val_loss did not improve from 0.53490\n",
            "7/7 [==============================] - 17s 2s/step - loss: 0.4956 - binary_accuracy: 0.7635 - val_loss: 0.5884 - val_binary_accuracy: 0.8000\n",
            "Epoch 5/30\n",
            "7/7 [==============================] - ETA: 0s - loss: 0.4544 - binary_accuracy: 0.8030\n",
            "Epoch 5: val_loss did not improve from 0.53490\n",
            "7/7 [==============================] - 19s 3s/step - loss: 0.4544 - binary_accuracy: 0.8030 - val_loss: 0.5632 - val_binary_accuracy: 0.8400\n",
            "Epoch 6/30\n",
            "7/7 [==============================] - ETA: 0s - loss: 0.4690 - binary_accuracy: 0.8227\n",
            "Epoch 6: val_loss improved from 0.53490 to 0.53239, saving model to mymodel.h6\n"
          ]
        },
        {
          "output_type": "stream",
          "name": "stderr",
          "text": [
            "WARNING:absl:Found untraced functions such as _jit_compiled_convolution_op, _jit_compiled_convolution_op, _jit_compiled_convolution_op, _update_step_xla while saving (showing 4 of 4). These functions will not be directly callable after loading.\n"
          ]
        },
        {
          "output_type": "stream",
          "name": "stdout",
          "text": [
            "\b\b\b\b\b\b\b\b\b\b\b\b\b\b\b\b\b\b\b\b\b\b\b\b\b\b\b\b\b\b\b\b\b\b\b\b\b\b\b\b\b\b\b\b\b\b\b\b\b\b\b\b\b\b\b\b\b\b\b\b\b\b\b\b\b\b\b\b\b\b\b\b\b\b\b\b\b\b\b\b\b\b\b\b\b\b\b\r7/7 [==============================] - 18s 3s/step - loss: 0.4690 - binary_accuracy: 0.8227 - val_loss: 0.5324 - val_binary_accuracy: 0.8400\n",
            "Epoch 7/30\n",
            "7/7 [==============================] - ETA: 0s - loss: 0.4139 - binary_accuracy: 0.8276\n",
            "Epoch 7: val_loss did not improve from 0.53239\n",
            "7/7 [==============================] - 17s 2s/step - loss: 0.4139 - binary_accuracy: 0.8276 - val_loss: 0.6691 - val_binary_accuracy: 0.8400\n",
            "Epoch 8/30\n",
            "7/7 [==============================] - ETA: 0s - loss: 0.3729 - binary_accuracy: 0.8522\n",
            "Epoch 8: val_loss did not improve from 0.53239\n",
            "7/7 [==============================] - 18s 2s/step - loss: 0.3729 - binary_accuracy: 0.8522 - val_loss: 0.6239 - val_binary_accuracy: 0.8400\n",
            "Epoch 9/30\n",
            "7/7 [==============================] - ETA: 0s - loss: 0.4256 - binary_accuracy: 0.8522\n",
            "Epoch 9: val_loss did not improve from 0.53239\n",
            "7/7 [==============================] - 18s 3s/step - loss: 0.4256 - binary_accuracy: 0.8522 - val_loss: 0.5521 - val_binary_accuracy: 0.8600\n",
            "Epoch 10/30\n",
            "7/7 [==============================] - ETA: 0s - loss: 0.3833 - binary_accuracy: 0.8276\n",
            "Epoch 10: val_loss did not improve from 0.53239\n",
            "7/7 [==============================] - 19s 3s/step - loss: 0.3833 - binary_accuracy: 0.8276 - val_loss: 0.5992 - val_binary_accuracy: 0.8400\n",
            "Epoch 11/30\n",
            "7/7 [==============================] - ETA: 0s - loss: 0.3111 - binary_accuracy: 0.8916\n",
            "Epoch 11: val_loss did not improve from 0.53239\n",
            "7/7 [==============================] - 16s 2s/step - loss: 0.3111 - binary_accuracy: 0.8916 - val_loss: 0.6031 - val_binary_accuracy: 0.8600\n",
            "Epoch 12/30\n",
            "7/7 [==============================] - ETA: 0s - loss: 0.2895 - binary_accuracy: 0.8916\n",
            "Epoch 12: val_loss did not improve from 0.53239\n",
            "7/7 [==============================] - 17s 2s/step - loss: 0.2895 - binary_accuracy: 0.8916 - val_loss: 0.7019 - val_binary_accuracy: 0.8600\n",
            "Epoch 13/30\n",
            "7/7 [==============================] - ETA: 0s - loss: 0.2521 - binary_accuracy: 0.9113\n",
            "Epoch 13: val_loss did not improve from 0.53239\n",
            "7/7 [==============================] - 18s 3s/step - loss: 0.2521 - binary_accuracy: 0.9113 - val_loss: 0.6170 - val_binary_accuracy: 0.8000\n",
            "Epoch 14/30\n",
            "7/7 [==============================] - ETA: 0s - loss: 0.2359 - binary_accuracy: 0.9113\n",
            "Epoch 14: val_loss did not improve from 0.53239\n",
            "7/7 [==============================] - 24s 3s/step - loss: 0.2359 - binary_accuracy: 0.9113 - val_loss: 0.7814 - val_binary_accuracy: 0.8400\n",
            "Epoch 15/30\n",
            "7/7 [==============================] - ETA: 0s - loss: 0.1539 - binary_accuracy: 0.9458\n",
            "Epoch 15: val_loss did not improve from 0.53239\n",
            "7/7 [==============================] - 17s 2s/step - loss: 0.1539 - binary_accuracy: 0.9458 - val_loss: 0.7840 - val_binary_accuracy: 0.8400\n",
            "Epoch 16/30\n",
            "7/7 [==============================] - ETA: 0s - loss: 0.1760 - binary_accuracy: 0.9310\n",
            "Epoch 16: val_loss did not improve from 0.53239\n",
            "7/7 [==============================] - 21s 3s/step - loss: 0.1760 - binary_accuracy: 0.9310 - val_loss: 0.7347 - val_binary_accuracy: 0.8800\n",
            "Epoch 17/30\n",
            "7/7 [==============================] - ETA: 0s - loss: 0.1709 - binary_accuracy: 0.9360\n",
            "Epoch 17: val_loss did not improve from 0.53239\n",
            "7/7 [==============================] - 18s 3s/step - loss: 0.1709 - binary_accuracy: 0.9360 - val_loss: 0.8651 - val_binary_accuracy: 0.8400\n",
            "Epoch 18/30\n",
            "7/7 [==============================] - ETA: 0s - loss: 0.1349 - binary_accuracy: 0.9409\n",
            "Epoch 18: val_loss did not improve from 0.53239\n",
            "7/7 [==============================] - 17s 3s/step - loss: 0.1349 - binary_accuracy: 0.9409 - val_loss: 0.8397 - val_binary_accuracy: 0.8800\n",
            "Epoch 19/30\n",
            "7/7 [==============================] - ETA: 0s - loss: 0.1138 - binary_accuracy: 0.9754\n",
            "Epoch 19: val_loss did not improve from 0.53239\n",
            "7/7 [==============================] - 18s 2s/step - loss: 0.1138 - binary_accuracy: 0.9754 - val_loss: 1.0193 - val_binary_accuracy: 0.8400\n",
            "Epoch 20/30\n",
            "7/7 [==============================] - ETA: 0s - loss: 0.0595 - binary_accuracy: 0.9754\n",
            "Epoch 20: val_loss did not improve from 0.53239\n",
            "7/7 [==============================] - 17s 2s/step - loss: 0.0595 - binary_accuracy: 0.9754 - val_loss: 0.8893 - val_binary_accuracy: 0.8800\n",
            "Epoch 21/30\n",
            "7/7 [==============================] - ETA: 0s - loss: 0.0590 - binary_accuracy: 0.9852\n",
            "Epoch 21: val_loss did not improve from 0.53239\n",
            "7/7 [==============================] - 19s 3s/step - loss: 0.0590 - binary_accuracy: 0.9852 - val_loss: 0.8803 - val_binary_accuracy: 0.8600\n",
            "Epoch 22/30\n",
            "7/7 [==============================] - ETA: 0s - loss: 0.1068 - binary_accuracy: 0.9754\n",
            "Epoch 22: val_loss did not improve from 0.53239\n",
            "7/7 [==============================] - 17s 3s/step - loss: 0.1068 - binary_accuracy: 0.9754 - val_loss: 0.9047 - val_binary_accuracy: 0.8600\n",
            "Epoch 23/30\n",
            "7/7 [==============================] - ETA: 0s - loss: 0.0538 - binary_accuracy: 0.9803\n",
            "Epoch 23: val_loss did not improve from 0.53239\n",
            "7/7 [==============================] - 18s 3s/step - loss: 0.0538 - binary_accuracy: 0.9803 - val_loss: 0.9612 - val_binary_accuracy: 0.8400\n",
            "Epoch 24/30\n",
            "7/7 [==============================] - ETA: 0s - loss: 0.0336 - binary_accuracy: 0.9901\n",
            "Epoch 24: val_loss did not improve from 0.53239\n",
            "7/7 [==============================] - 18s 2s/step - loss: 0.0336 - binary_accuracy: 0.9901 - val_loss: 0.9556 - val_binary_accuracy: 0.8400\n",
            "Epoch 25/30\n",
            "7/7 [==============================] - ETA: 0s - loss: 0.0131 - binary_accuracy: 0.9951\n",
            "Epoch 25: val_loss did not improve from 0.53239\n",
            "7/7 [==============================] - 19s 3s/step - loss: 0.0131 - binary_accuracy: 0.9951 - val_loss: 1.2592 - val_binary_accuracy: 0.8400\n",
            "Epoch 26/30\n",
            "7/7 [==============================] - ETA: 0s - loss: 0.0340 - binary_accuracy: 0.9852\n",
            "Epoch 26: val_loss did not improve from 0.53239\n",
            "7/7 [==============================] - 17s 2s/step - loss: 0.0340 - binary_accuracy: 0.9852 - val_loss: 1.1971 - val_binary_accuracy: 0.9000\n",
            "Epoch 27/30\n",
            "7/7 [==============================] - ETA: 0s - loss: 0.0105 - binary_accuracy: 1.0000\n",
            "Epoch 27: val_loss did not improve from 0.53239\n",
            "7/7 [==============================] - 17s 2s/step - loss: 0.0105 - binary_accuracy: 1.0000 - val_loss: 1.2730 - val_binary_accuracy: 0.8600\n",
            "Epoch 28/30\n",
            "7/7 [==============================] - ETA: 0s - loss: 0.0217 - binary_accuracy: 0.9951\n",
            "Epoch 28: val_loss did not improve from 0.53239\n",
            "7/7 [==============================] - 17s 2s/step - loss: 0.0217 - binary_accuracy: 0.9951 - val_loss: 1.1840 - val_binary_accuracy: 0.8400\n",
            "Epoch 29/30\n",
            "7/7 [==============================] - ETA: 0s - loss: 0.0090 - binary_accuracy: 0.9951\n",
            "Epoch 29: val_loss did not improve from 0.53239\n",
            "7/7 [==============================] - 17s 2s/step - loss: 0.0090 - binary_accuracy: 0.9951 - val_loss: 1.3641 - val_binary_accuracy: 0.8200\n",
            "Epoch 30/30\n",
            "7/7 [==============================] - ETA: 0s - loss: 0.0127 - binary_accuracy: 0.9951\n",
            "Epoch 30: val_loss did not improve from 0.53239\n",
            "7/7 [==============================] - 19s 3s/step - loss: 0.0127 - binary_accuracy: 0.9951 - val_loss: 1.8129 - val_binary_accuracy: 0.8600\n"
          ]
        }
      ]
    },
    {
      "cell_type": "code",
      "source": [
        "history_frame = pd.DataFrame(history.history)\n",
        "history_frame.loc[:, ['loss', 'val_loss']].plot()\n",
        "history_frame.loc[:, ['binary_accuracy', 'val_binary_accuracy']].plot();"
      ],
      "metadata": {
        "id": "etFmi1Mdpucv",
        "colab": {
          "base_uri": "https://localhost:8080/",
          "height": 843
        },
        "outputId": "65e59dc1-11ec-4f7f-fa23-1cfef0f33a2d"
      },
      "execution_count": null,
      "outputs": [
        {
          "output_type": "display_data",
          "data": {
            "text/plain": [
              "<Figure size 640x480 with 1 Axes>"
            ],
            "image/png": "[encoded data removed]"
          },
          "metadata": {}
        },
        {
          "output_type": "display_data",
          "data": {
            "text/plain": [
              "<Figure size 640x480 with 1 Axes>"
            ],
            "image/png": "[encoded data removed]"
          },
          "metadata": {}
        }
      ]
    },
    {
      "cell_type": "markdown",
      "source": [
        "Note : model is overfitting here, we can try building a better, different model"
      ],
      "metadata": {
        "id": "g42JQUBSIAM2"
      }
    },
    {
      "cell_type": "code",
      "source": [
        "import matplotlib.pyplot as plt\n",
        "import matplotlib.ticker as ticker\n",
        "from sklearn.metrics import accuracy_score,f1_score,classification_report\n",
        "\n",
        "\n",
        "CLASSES = train_data.class_names\n",
        "probabilities = model.predict(valid_data_preprocess)\n",
        "print(probabilities)\n",
        "\n",
        "predictions = [1 if i >0.5 else 0 for i in probabilities]\n",
        "print(predictions)\n",
        "unbatched_valid_ds_preprocess = valid_data_preprocess.unbatch()\n",
        "labels_valid = [int(i[1]) for i in unbatched_valid_ds_preprocess]\n",
        "print(labels_valid)\n",
        "list_labels_predictions = np.vstack((labels_valid,predictions)).T\n",
        "conf_matrix = np.zeros([2,2])\n",
        "\n",
        "for i,j in list_labels_predictions:\n",
        "    conf_matrix[i,j] +=1\n",
        "\n",
        "accuracy = accuracy_score(labels_valid, predictions)\n",
        "f1 = f1_score(labels_valid, predictions)\n",
        "print('Val Accuracy: %.2f' % accuracy)\n",
        "print('Val F1 Score: %.2f' % f1)\n",
        "print('False positive: %.2f' % (conf_matrix[0,1]/len(predictions)))\n",
        "print('False negative: %.2f' % (conf_matrix[1,0]/len(predictions)))"
      ],
      "metadata": {
        "id": "jDZaYeUZpzis",
        "colab": {
          "base_uri": "https://localhost:8080/"
        },
        "outputId": "5274127e-8ad8-4f65-9edc-5883bde3c60c"
      },
      "execution_count": null,
      "outputs": [
        {
          "output_type": "stream",
          "name": "stdout",
          "text": [
            "2/2 [==============================] - 2s 575ms/step\n",
            "[[1.0000000e+00]\n",
            " [1.0000000e+00]\n",
            " [9.9335134e-01]\n",
            " [1.0000000e+00]\n",
            " [1.0000000e+00]\n",
            " [9.9999398e-01]\n",
            " [9.9995887e-01]\n",
            " [9.9999231e-01]\n",
            " [9.9995136e-01]\n",
            " [2.4346761e-20]\n",
            " [7.4140042e-01]\n",
            " [1.1852291e-17]\n",
            " [9.9999416e-01]\n",
            " [9.9995792e-01]\n",
            " [4.9969205e-15]\n",
            " [9.9840307e-01]\n",
            " [9.9363250e-01]\n",
            " [4.2276451e-04]\n",
            " [1.5729300e-11]\n",
            " [3.1129378e-01]\n",
            " [9.6050251e-01]\n",
            " [9.9998510e-01]\n",
            " [6.3189627e-12]\n",
            " [9.9999720e-01]\n",
            " [9.9999923e-01]\n",
            " [1.0000000e+00]\n",
            " [9.9807054e-01]\n",
            " [9.9999934e-01]\n",
            " [9.9468702e-01]\n",
            " [1.0000000e+00]\n",
            " [9.9999851e-01]\n",
            " [8.6917102e-01]\n",
            " [9.9999964e-01]\n",
            " [9.9953806e-01]\n",
            " [5.2573938e-07]\n",
            " [2.6410355e-05]\n",
            " [9.9922919e-01]\n",
            " [9.8931628e-01]\n",
            " [9.0099901e-22]\n",
            " [9.6534067e-01]\n",
            " [2.7515721e-08]\n",
            " [2.0868221e-07]\n",
            " [9.9999994e-01]\n",
            " [1.6394441e-06]\n",
            " [1.0000000e+00]\n",
            " [2.4230045e-14]\n",
            " [8.4618193e-07]\n",
            " [9.9966687e-01]\n",
            " [9.9965477e-01]\n",
            " [9.9999857e-01]]\n",
            "[1, 1, 1, 1, 1, 1, 1, 1, 1, 0, 1, 0, 1, 1, 0, 1, 1, 0, 0, 0, 1, 1, 0, 1, 1, 1, 1, 1, 1, 1, 1, 1, 1, 1, 0, 0, 1, 1, 0, 1, 0, 0, 1, 0, 1, 0, 0, 1, 1, 1]\n",
            "[1, 1, 1, 0, 1, 0, 1, 1, 1, 0, 1, 0, 1, 1, 0, 1, 0, 0, 1, 0, 0, 1, 0, 1, 1, 1, 1, 1, 1, 1, 1, 0, 1, 1, 0, 0, 1, 1, 0, 1, 1, 0, 1, 0, 1, 0, 0, 1, 1, 1]\n",
            "Val Accuracy: 0.86\n",
            "Val F1 Score: 0.90\n",
            "False positive: 0.10\n",
            "False negative: 0.04\n"
          ]
        }
      ]
    },
    {
      "cell_type": "code",
      "source": [
        "fig, ax = plt.subplots(figsize=(7.5, 7.5))\n",
        "ax.matshow(conf_matrix, cmap=plt.cm.Blues)\n",
        "for i in range(conf_matrix.shape[0]):\n",
        "    for j in range(conf_matrix.shape[1]):\n",
        "        ax.text(x=j, y=i,s=conf_matrix[i, j], va='center', ha='center', size='xx-large')\n",
        "\n",
        "plt.xlabel('Predictions', fontsize=18)\n",
        "plt.ylabel('Actuals', fontsize=18)\n",
        "\n",
        "ax.set_yticks([0,1])\n",
        "ax.set_yticklabels(CLASSES)\n",
        "ax.set_xticks([0,1])\n",
        "ax.set_xticklabels(CLASSES)\n",
        "plt.title('Confusion Matrix', fontsize=18)\n",
        "plt.show()\n",
        "\n",
        "\n",
        "print(classification_report(labels_valid,predictions))"
      ],
      "metadata": {
        "colab": {
          "base_uri": "https://localhost:8080/",
          "height": 855
        },
        "id": "vG_sX-C2Yonx",
        "outputId": "cf950afc-7dcf-47de-a55e-61a6ea8b2bc4"
      },
      "execution_count": null,
      "outputs": [
        {
          "output_type": "display_data",
          "data": {
            "text/plain": [
              "<Figure size 750x750 with 1 Axes>"
            ],
            "image/png": "[encoded data removed]"
          },
          "metadata": {}
        },
        {
          "output_type": "stream",
          "name": "stdout",
          "text": [
            "              precision    recall  f1-score   support\n",
            "\n",
            "           0       0.87      0.72      0.79        18\n",
            "           1       0.86      0.94      0.90        32\n",
            "\n",
            "    accuracy                           0.86        50\n",
            "   macro avg       0.86      0.83      0.84        50\n",
            "weighted avg       0.86      0.86      0.86        50\n",
            "\n"
          ]
        }
      ]
    }
  ]
}